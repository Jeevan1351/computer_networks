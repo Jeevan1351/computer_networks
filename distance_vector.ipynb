{
  "nbformat": 4,
  "nbformat_minor": 0,
  "metadata": {
    "colab": {
      "name": "distance_vector.ipynb",
      "provenance": [],
      "authorship_tag": "ABX9TyMrvJ9nykCePO0+eyJYfuj0",
      "include_colab_link": true
    },
    "kernelspec": {
      "name": "python3",
      "display_name": "Python 3"
    },
    "language_info": {
      "name": "python"
    }
  },
  "cells": [
    {
      "cell_type": "markdown",
      "metadata": {
        "id": "view-in-github",
        "colab_type": "text"
      },
      "source": [
        "<a href=\"https://colab.research.google.com/github/Jeevan1351/computer_networks/blob/main/distance_vector.ipynb\" target=\"_parent\"><img src=\"https://colab.research.google.com/assets/colab-badge.svg\" alt=\"Open In Colab\"/></a>"
      ]
    },
    {
      "cell_type": "code",
      "execution_count": 2,
      "metadata": {
        "id": "MfU0WlhyHQbv"
      },
      "outputs": [],
      "source": [
        "class Topology:\n",
        "    def __init__(self, array_of_points):\n",
        "        self.nodes = array_of_points\n",
        "        self.edges = []\n",
        "\n",
        "    def add_direct_connection(self, p1, p2, cost):\n",
        "        self.edges.append((p1, p2, cost))\n",
        "        self.edges.append((p2, p1, cost))\n",
        "\n",
        "    def distance_vector_routing(self):\n",
        "        import collections\n",
        "        for node in self.nodes:\n",
        "            dist = collections.defaultdict(int)\n",
        "            next_hop = {node: node}\n",
        "            for other_node in self.nodes:\n",
        "                if other_node != node:\n",
        "                    dist[other_node] = 100000000 # infinity\n",
        "\n",
        "            # Bellman Ford Algorithm\n",
        "            for i in range(len(self.nodes)-1):\n",
        "                for edge in self.edges:\n",
        "                    src, dest, cost = edge\n",
        "                    if dist[src] + cost < dist[dest]:\n",
        "                        dist[dest] = dist[src] + cost\n",
        "                        if src == node:\n",
        "                            next_hop[dest] =dest\n",
        "                        elif src in next_hop:\n",
        "                            next_hop[dest] = next_hop[src]\n",
        "\n",
        "            self.print_routing_table(node, dist, next_hop)\n",
        "            print()\n",
        "\n",
        "    def print_routing_table(self, node, dist, next_hop):\n",
        "        print(f'Routing table for {node}:')\n",
        "        print('Dest \\t Cost \\t Next Hop')\n",
        "        for dest, cost in dist.items():\n",
        "            print(f'{dest} \\t {cost} \\t {next_hop[dest]}')"
      ]
    },
    {
      "cell_type": "code",
      "source": [
        "array = ['A', 'B', 'C', 'D', 'E']\n",
        "\n",
        "# Create the network\n",
        "t = Topology(array)\n",
        "\n",
        "# Direct connection of each point in the Topology\n",
        "t.add_direct_connection('A', 'C', 1)\n",
        "t.add_direct_connection('A', 'E', 4)\n",
        "t.add_direct_connection('B', 'C', 9)\n",
        "t.add_direct_connection('B', 'D', 2)\n",
        "t.add_direct_connection('C', 'D', 7)\n",
        "\n",
        "t.distance_vector_routing()"
      ],
      "metadata": {
        "colab": {
          "base_uri": "https://localhost:8080/"
        },
        "id": "3Sk3eIaEH9Jy",
        "outputId": "3700269c-7ebe-4808-c7d5-e5b32d55c593"
      },
      "execution_count": 3,
      "outputs": [
        {
          "output_type": "stream",
          "name": "stdout",
          "text": [
            "Routing table for A:\n",
            "Dest \t Cost \t Next Hop\n",
            "B \t 10 \t C\n",
            "C \t 1 \t C\n",
            "D \t 8 \t C\n",
            "E \t 4 \t E\n",
            "A \t 0 \t A\n",
            "\n",
            "Routing table for B:\n",
            "Dest \t Cost \t Next Hop\n",
            "A \t 10 \t C\n",
            "C \t 9 \t C\n",
            "D \t 2 \t D\n",
            "E \t 14 \t C\n",
            "B \t 0 \t B\n",
            "\n",
            "Routing table for C:\n",
            "Dest \t Cost \t Next Hop\n",
            "A \t 1 \t A\n",
            "B \t 9 \t B\n",
            "D \t 7 \t D\n",
            "E \t 5 \t A\n",
            "C \t 0 \t C\n",
            "\n",
            "Routing table for D:\n",
            "Dest \t Cost \t Next Hop\n",
            "A \t 8 \t C\n",
            "B \t 2 \t B\n",
            "C \t 7 \t C\n",
            "E \t 12 \t C\n",
            "D \t 0 \t D\n",
            "\n",
            "Routing table for E:\n",
            "Dest \t Cost \t Next Hop\n",
            "A \t 4 \t A\n",
            "B \t 14 \t A\n",
            "C \t 5 \t A\n",
            "D \t 12 \t A\n",
            "E \t 0 \t E\n",
            "\n"
          ]
        }
      ]
    },
    {
      "cell_type": "code",
      "source": [
        "nodes=input('Enter Node:').split()\n",
        "t=Topology(nodes)\n",
        "edges=int(input('Enter no. of connections'))\n",
        "\n",
        "for _ in range(edges):\n",
        "    src,dest,cost=input('Enter [src][dest][cost]').split()\n",
        "    \n",
        "    t.add_direct_connection(src,dest,int(cost))\n",
        "\n",
        "t.distance_vector_routing()"
      ],
      "metadata": {
        "colab": {
          "base_uri": "https://localhost:8080/"
        },
        "id": "g9Ioqa0UIhkK",
        "outputId": "cf70a4a1-edc6-40b7-959e-441afb4eaa60"
      },
      "execution_count": 6,
      "outputs": [
        {
          "output_type": "stream",
          "name": "stdout",
          "text": [
            "Enter Node:A B C D E\n",
            "Enter no. of connections5\n",
            "Enter [src][dest][cost]A E 4\n",
            "Enter [src][dest][cost]A C 1\n",
            "Enter [src][dest][cost]C D 7\n",
            "Enter [src][dest][cost]C B 9\n",
            "Enter [src][dest][cost]B D 2\n",
            "Routing table for A:\n",
            "Dest \t Cost \t Next Hop\n",
            "B \t 10 \t C\n",
            "C \t 1 \t C\n",
            "D \t 8 \t C\n",
            "E \t 4 \t E\n",
            "A \t 0 \t A\n",
            "\n",
            "Routing table for B:\n",
            "Dest \t Cost \t Next Hop\n",
            "A \t 10 \t C\n",
            "C \t 9 \t C\n",
            "D \t 2 \t D\n",
            "E \t 14 \t C\n",
            "B \t 0 \t B\n",
            "\n",
            "Routing table for C:\n",
            "Dest \t Cost \t Next Hop\n",
            "A \t 1 \t A\n",
            "B \t 9 \t B\n",
            "D \t 7 \t D\n",
            "E \t 5 \t A\n",
            "C \t 0 \t C\n",
            "\n",
            "Routing table for D:\n",
            "Dest \t Cost \t Next Hop\n",
            "A \t 8 \t C\n",
            "B \t 2 \t B\n",
            "C \t 7 \t C\n",
            "E \t 12 \t C\n",
            "D \t 0 \t D\n",
            "\n",
            "Routing table for E:\n",
            "Dest \t Cost \t Next Hop\n",
            "A \t 4 \t A\n",
            "B \t 14 \t A\n",
            "C \t 5 \t A\n",
            "D \t 12 \t A\n",
            "E \t 0 \t E\n",
            "\n"
          ]
        }
      ]
    },
    {
      "cell_type": "code",
      "source": [
        ""
      ],
      "metadata": {
        "id": "4qZFnugeMdwK"
      },
      "execution_count": null,
      "outputs": []
    }
  ]
}